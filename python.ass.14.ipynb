{
 "cells": [
  {
   "cell_type": "markdown",
   "id": "3dd644d3",
   "metadata": {},
   "source": [
    "# 1. What does RGBA stand for?"
   ]
  },
  {
   "cell_type": "raw",
   "id": "696c1a1d",
   "metadata": {},
   "source": [
    "RGBA stands for Red, Green, Blue, and Alpha. It is a color model used to represent colors in digital images, computer graphics, and various applications.\n",
    "\n",
    "Each letter in the acronym represents a component of the color:\n",
    "\n",
    "R: Red component, specifying the intensity of the red color channel.\n",
    "G: Green component, specifying the intensity of the green color channel.\n",
    "B: Blue component, specifying the intensity of the blue color channel.\n",
    "A: Alpha component, specifying the opacity or transparency of the color. The alpha value defines how the color blends with the background or other colors. A value of 0 represents full transparency, while a value of 255 (or 1.0) represents full opacity."
   ]
  },
  {
   "cell_type": "markdown",
   "id": "12214fa0",
   "metadata": {},
   "source": [
    "# 2. From the Pillow module, how do you get the RGBA value of any images?"
   ]
  },
  {
   "cell_type": "code",
   "execution_count": null,
   "id": "5d4c27e7",
   "metadata": {},
   "outputs": [],
   "source": [
    "To get the RGBA value of an image using the Pillow module in Python, you can use the getpixel() method. Here's an example:\n",
    "from PIL import Image\n",
    "\n",
    "# Open the image file\n",
    "image = Image.open('example.png')\n",
    "\n",
    "# Get the RGBA value of a specific pixel (x, y)\n",
    "pixel = image.getpixel((x, y))\n",
    "print(pixel)\n",
    "\n",
    "In this example, 'example.png' represents the filename of the image you want to work with. Replace 'example.png' with the actual filename of your image.\n",
    "\n",
    "To get the RGBA value of a specific pixel, you need to provide the pixel coordinates as a tuple (x, y) to the getpixel() method. The x and y values represent the coordinates of the pixel you want to retrieve.\n",
    "\n",
    "The getpixel() method returns a tuple containing the RGBA values of the specified pixel. Each value in the tuple represents the intensity of the red, green, blue, and alpha channels, respectively.\n",
    "\n",
    "You can access individual components of the RGBA value using indexing. For example, to access the alpha component, you can use pixel[3].\n",
    "\n",
    "Make sure you have the Pillow module installed (pip install pillow) before running the code."
   ]
  },
  {
   "cell_type": "markdown",
   "id": "cf360fa9",
   "metadata": {},
   "source": [
    "# 3. What is a box tuple, and how does it work?"
   ]
  },
  {
   "cell_type": "code",
   "execution_count": null,
   "id": "8a5b5d30",
   "metadata": {},
   "outputs": [],
   "source": [
    "In the context of the Pillow module in Python, a \"box tuple\" refers to a tuple that represents a rectangular region or bounding box within an image. It is commonly used for operations such as cropping, resizing, or extracting regions of interest from an image.\n",
    "\n",
    "A box tuple is typically represented as (left, upper, right, lower) or (x1, y1, x2, y2), where:\n",
    "\n",
    "left (or x1) represents the x-coordinate of the leftmost edge of the box.\n",
    "upper (or y1) represents the y-coordinate of the topmost edge of the box.\n",
    "right (or x2) represents the x-coordinate of the rightmost edge of the box.\n",
    "lower (or y2) represents the y-coordinate of the bottommost edge of the box.\n",
    "The box tuple defines a rectangular region in the image defined by the coordinates of its four corners. The left and upper coordinates specify the top-left corner of the box, while the right and lower coordinates specify the bottom-right corner of the box.\n",
    "\n",
    "The box tuple is often used as an argument for various image processing methods in Pillow to indicate the region of interest or the area where the operation should be applied. For example, when cropping an image, you can provide the box tuple to the crop() method to specify the rectangular region to be extracted."
   ]
  },
  {
   "cell_type": "markdown",
   "id": "f0d9b38a",
   "metadata": {},
   "source": [
    "# 4. Use your image and load in notebook then, How can you find out the width and height of an Image object?"
   ]
  },
  {
   "cell_type": "code",
   "execution_count": null,
   "id": "184efbb2",
   "metadata": {},
   "outputs": [],
   "source": [
    "To find out the width and height of an Image object in Python, you can use the size attribute or the width and height attributes. Here's an example of loading an image in a Jupyter Notebook and accessing its dimensions:\n",
    "from PIL import Image\n",
    "import matplotlib.pyplot as plt\n",
    "\n",
    "# Load the image\n",
    "image = Image.open('example.jpg')\n",
    "\n",
    "# Display the image\n",
    "plt.imshow(image)\n",
    "plt.axis('off')\n",
    "plt.show()\n",
    "\n",
    "# Get the width and height using the size attribute\n",
    "width, height = image.size\n",
    "print(\"Width:\", width)\n",
    "print(\"Height:\", height)\n",
    "\n",
    "# Alternatively, you can use the width and height attributes\n",
    "# width = image.width\n",
    "# height = image.height\n",
    "\n",
    "To obtain the width and height of the image, you can use the size attribute, which returns a tuple (width, height). You can assign these values to separate variables, width and height, for further use or printing."
   ]
  },
  {
   "cell_type": "markdown",
   "id": "57e623f4",
   "metadata": {},
   "source": [
    "# 5. What method would you call to get Image object for a 100×100 image, excluding the lower-left quarter of it?"
   ]
  },
  {
   "cell_type": "code",
   "execution_count": null,
   "id": "126f01e1",
   "metadata": {},
   "outputs": [],
   "source": [
    "To obtain an Image object for a 100x100 image, excluding the lower-left quarter of it, you can use the crop() method from the Pillow library in Python. Here's an example:\n",
    "\n",
    "from PIL import Image\n",
    "\n",
    "# Open the original image\n",
    "image = Image.open('example.jpg')\n",
    "\n",
    "# Define the box tuple for the upper-right region (excluding the lower-left quarter)\n",
    "box = (50, 0, 100, 50)\n",
    "\n",
    "# Crop the image using the box tuple\n",
    "cropped_image = image.crop(box)\n",
    "\n",
    "# Display the cropped image\n",
    "cropped_image.show()\n",
    "\n",
    "Next, a box tuple (50, 0, 100, 50) is defined, specifying the region of interest as the upper-right quarter of the image. The coordinates (50, 0) represent the top-left corner of the box, and (100, 50) represent the bottom-right corner.\n",
    "\n",
    "The crop() method is then called on the image object, passing the box tuple as the argument. This crops the image to the specified region, excluding the lower-left quarter.\n",
    "\n",
    "Finally, the cropped image is displayed using the show() method."
   ]
  },
  {
   "cell_type": "markdown",
   "id": "b8a41285",
   "metadata": {},
   "source": [
    "# 6. After making changes to an Image object, how could you save it as an image file?"
   ]
  },
  {
   "cell_type": "code",
   "execution_count": null,
   "id": "dc221e0e",
   "metadata": {},
   "outputs": [],
   "source": [
    "After making changes to an Image object using the Pillow library in Python, you can save it as an image file using the save() method. Here's an example:\n",
    "from PIL import Image\n",
    "\n",
    "# Open the original image\n",
    "image = Image.open('example.jpg')\n",
    "\n",
    "# Perform image modifications or processing\n",
    "\n",
    "# Save the modified image to a file\n",
    "image.save('modified_example.jpg')\n",
    "\n",
    "After performing modifications or processing on the image object, you can save it to a file using the save() method. In this case, the modified image is saved as 'modified_example.jpg'. You can replace 'modified_example.jpg' with the desired filename and file format for saving the image.\n",
    "\n",
    "The save() method automatically infers the file format based on the filename extension. For example, if the filename ends with .jpg, the image will be saved as a JPEG file. Similarly, if the filename ends with .png, the image will be saved as a PNG file. Pillow supports various image file formats, including JPEG, PNG, BMP, TIFF, and more."
   ]
  },
  {
   "cell_type": "markdown",
   "id": "318c0f96",
   "metadata": {},
   "source": [
    "# 7. What module contains Pillow’s shape-drawing code?"
   ]
  },
  {
   "cell_type": "code",
   "execution_count": null,
   "id": "271336e5",
   "metadata": {},
   "outputs": [],
   "source": [
    "Pillow's shape-drawing code is contained within the ImageDraw module. The ImageDraw module provides functionality to draw various shapes, lines, and text on Image objects.\n",
    "\n",
    "To use the shape-drawing code in Pillow, you need to import the ImageDraw module. Here's an example:\n",
    "from PIL import Image, ImageDraw\n",
    "\n",
    "# Open the image\n",
    "image = Image.open('example.jpg')\n",
    "\n",
    "# Create an ImageDraw object\n",
    "draw = ImageDraw.Draw(image)\n",
    "\n",
    "# Draw shapes or lines using the ImageDraw object\n",
    "\n",
    "# Save or display the modified image\n",
    "image.save('modified_example.jpg')\n",
    "\n",
    "In this example, after opening the image using Image.open(), the ImageDraw module is imported. Then, an ImageDraw object named draw is created using the ImageDraw.Draw() function, passing the image object as the argument.\n",
    "\n",
    "With the draw object, you can use various methods to draw shapes, lines, and text on the image. For example, you can use methods like draw.rectangle(), draw.line(), draw.ellipse(), draw.polygon(), and more.\n",
    "\n",
    "After performing the desired shape-drawing operations, you can save the modified image using image.save() or display it as needed."
   ]
  },
  {
   "cell_type": "markdown",
   "id": "706be807",
   "metadata": {},
   "source": [
    "# 8. Image objects do not have drawing methods. What kind of object does? How do you get this kind of object?"
   ]
  },
  {
   "cell_type": "code",
   "execution_count": null,
   "id": "47a2fab8",
   "metadata": {},
   "outputs": [],
   "source": [
    "The correct way to access these methods is by using the ImageDraw object obtained from the ImageDraw.Draw() function. Here's an updated example: \n",
    "from PIL import Image, ImageDraw\n",
    "\n",
    "# Open the image\n",
    "image = Image.open('example.jpg')\n",
    "\n",
    "# Create an ImageDraw object\n",
    "draw = ImageDraw.Draw(image)\n",
    "\n",
    "# Draw shapes or lines using the ImageDraw object\n",
    "\n",
    "# Save or display the modified image\n",
    "image.save('modified_example.jpg')\n",
    "\n",
    "\n",
    "In this updated example, after opening the image using Image.open(), the ImageDraw module is imported. Then, an ImageDraw object named draw is created using the ImageDraw.Draw() function, passing the image object as the argument.\n",
    "\n",
    "The draw object obtained from ImageDraw.Draw() has various drawing methods available to draw shapes, lines, and text on the image. For example, you can use methods like draw.rectangle(), draw.line(), draw.ellipse(), draw.polygon(), and more. These methods can be called on the draw object to modify the image.\n",
    "\n",
    "After performing the desired shape-drawing operations, you can save the modified image using image.save() or display it as needed.\n"
   ]
  }
 ],
 "metadata": {
  "kernelspec": {
   "display_name": "Python 3 (ipykernel)",
   "language": "python",
   "name": "python3"
  },
  "language_info": {
   "codemirror_mode": {
    "name": "ipython",
    "version": 3
   },
   "file_extension": ".py",
   "mimetype": "text/x-python",
   "name": "python",
   "nbconvert_exporter": "python",
   "pygments_lexer": "ipython3",
   "version": "3.9.12"
  }
 },
 "nbformat": 4,
 "nbformat_minor": 5
}
